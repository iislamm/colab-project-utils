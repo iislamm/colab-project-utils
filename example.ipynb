{
 "cells": [
  {
   "cell_type": "markdown",
   "metadata": {
    "id": "v_V-aNAjkLZp"
   },
   "source": [
    "# Colab Project Utils\n",
    "Utility class to help you save your colab project files in your Google Drive account and fetch them back when you continue working on you project.\n",
    "\n",
    "The goal of this project is to save you time while working on complex projects using Colab."
   ]
  },
  {
   "cell_type": "markdown",
   "metadata": {
    "id": "M6xnz5KelFg9"
   },
   "source": [
    "## Getting Started"
   ]
  },
  {
   "cell_type": "markdown",
   "metadata": {
    "id": "xdSK9YF1lH76"
   },
   "source": [
    "#### 1. Mount Google Drive"
   ]
  },
  {
   "cell_type": "code",
   "execution_count": 1,
   "metadata": {
    "id": "X47dVZBBlT5U"
   },
   "outputs": [],
   "source": [
    "DRIVE_PATH = '/gdrive'"
   ]
  },
  {
   "cell_type": "code",
   "execution_count": 2,
   "metadata": {
    "colab": {
     "base_uri": "https://localhost:8080/"
    },
    "id": "YbQIJxTvdCXp",
    "outputId": "b8b1c9ad-27a8-4ccd-fdfc-65a6a4e2a0cf"
   },
   "outputs": [
    {
     "name": "stdout",
     "output_type": "stream",
     "text": [
      "Drive already mounted at /gdrive; to attempt to forcibly remount, call drive.mount(\"/gdrive\", force_remount=True).\n"
     ]
    }
   ],
   "source": [
    "from google.colab import drive\n",
    "drive.mount(DRIVE_PATH)"
   ]
  },
  {
   "cell_type": "markdown",
   "metadata": {
    "id": "Ce2h0Eralakd"
   },
   "source": [
    "#### 2. Download and import ColabUtils"
   ]
  },
  {
   "cell_type": "code",
   "execution_count": 3,
   "metadata": {
    "colab": {
     "base_uri": "https://localhost:8080/"
    },
    "id": "v8cB7o7ywao6",
    "outputId": "dd7d8ca5-aa1e-4f24-e2d9-b4c22efa2a6f"
   },
   "outputs": [
    {
     "name": "stdout",
     "output_type": "stream",
     "text": [
      "--2022-07-13 18:14:17--  https://raw.githubusercontent.com/islammohamedd1/colab-project-utils/main/colab_utils.py\n",
      "Resolving raw.githubusercontent.com (raw.githubusercontent.com)... 185.199.109.133, 185.199.108.133, 185.199.111.133, ...\n",
      "Connecting to raw.githubusercontent.com (raw.githubusercontent.com)|185.199.109.133|:443... connected.\n",
      "HTTP request sent, awaiting response... 200 OK\n",
      "Length: 4439 (4.3K) [text/plain]\n",
      "Saving to: ‘colab_utils.py’\n",
      "\n",
      "\r",
      "colab_utils.py        0%[                    ]       0  --.-KB/s               \r",
      "colab_utils.py      100%[===================>]   4.33K  --.-KB/s    in 0s      \n",
      "\n",
      "2022-07-13 18:14:17 (60.3 MB/s) - ‘colab_utils.py’ saved [4439/4439]\n",
      "\n"
     ]
    }
   ],
   "source": [
    "!wget https://raw.githubusercontent.com/islammohamedd1/colab-project-utils/main/colab_utils.py"
   ]
  },
  {
   "cell_type": "code",
   "execution_count": 4,
   "metadata": {
    "id": "koanPTcgjJFE"
   },
   "outputs": [],
   "source": [
    "from colab_utils import ColabUtils"
   ]
  },
  {
   "cell_type": "markdown",
   "metadata": {
    "id": "iLYX0euhlqkc"
   },
   "source": [
    "#### 3. Initialize ColabUtils\n",
    "When you initialize ColabUtils, it will look if the project already exists in your Google Drive using the following path\n",
    "`\n",
    "{drive_root}/{project_root}/{project_name}\n",
    "`\n",
    "If the project exists, it will copy all the files to the current session storage."
   ]
  },
  {
   "cell_type": "code",
   "execution_count": 5,
   "metadata": {
    "colab": {
     "base_uri": "https://localhost:8080/"
    },
    "id": "CJsnra-uZcYy",
    "outputId": "4485228c-9f48-4a30-9388-a35efb72c68a"
   },
   "outputs": [
    {
     "name": "stdout",
     "output_type": "stream",
     "text": [
      "Initialized project Test Project using the following path: /gdrive/MyDrive/colab_projects/Test Project\n",
      "Project does not exist, creating new project\n",
      "Created project Test Project at /gdrive/MyDrive/colab_projects/Test Project\n"
     ]
    }
   ],
   "source": [
    "PROJECT_NAME = \"Test Project\"\n",
    "PROJECT_ROOT = 'colab_projects'\n",
    "\n",
    "cu = ColabUtils(PROJECT_NAME, DRIVE_PATH, PROJECT_ROOT)"
   ]
  },
  {
   "cell_type": "markdown",
   "metadata": {
    "id": "hKb0J3aTmSdK"
   },
   "source": [
    "#### 4. Write a test file"
   ]
  },
  {
   "cell_type": "code",
   "execution_count": 6,
   "metadata": {
    "colab": {
     "base_uri": "https://localhost:8080/"
    },
    "id": "sjqAGkjOa7-g",
    "outputId": "c7aff94d-1b6c-4d12-be24-8b712412ee74"
   },
   "outputs": [
    {
     "name": "stdout",
     "output_type": "stream",
     "text": [
      "Writing test.py\n"
     ]
    }
   ],
   "source": [
    "%%writefile test.py\n",
    "print('hello world')"
   ]
  },
  {
   "cell_type": "markdown",
   "metadata": {
    "id": "xAxK0uVJmVA_"
   },
   "source": [
    "#### 5. Save the project"
   ]
  },
  {
   "cell_type": "code",
   "execution_count": 7,
   "metadata": {
    "colab": {
     "base_uri": "https://localhost:8080/"
    },
    "id": "jAYdvB__AHlZ",
    "outputId": "efd9d6ac-c08f-4864-8d9c-27d9836ddf3c"
   },
   "outputs": [
    {
     "name": "stdout",
     "output_type": "stream",
     "text": [
      "Saved project Test Project\n"
     ]
    }
   ],
   "source": [
    "cu.save_project()"
   ]
  },
  {
   "cell_type": "markdown",
   "metadata": {
    "id": "Q4MQksWmmdsg"
   },
   "source": [
    "Voila! Your project is now saved to your Google Drive account. When you start working on you project again, the files will be fetched automatically when you initialize the ColabUtils object as described in step 3"
   ]
  }
 ],
 "metadata": {
  "colab": {
   "collapsed_sections": [],
   "name": "colab_utils.ipynb",
   "provenance": []
  },
  "kernelspec": {
   "display_name": "Python 3 (ipykernel)",
   "language": "python",
   "name": "python3"
  },
  "language_info": {
   "codemirror_mode": {
    "name": "ipython",
    "version": 3
   },
   "file_extension": ".py",
   "mimetype": "text/x-python",
   "name": "python",
   "nbconvert_exporter": "python",
   "pygments_lexer": "ipython3",
   "version": "3.9.6"
  }
 },
 "nbformat": 4,
 "nbformat_minor": 1
}
